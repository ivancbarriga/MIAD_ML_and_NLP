{
 "cells": [
  {
   "cell_type": "markdown",
   "metadata": {},
   "source": [
    "![image info](https://raw.githubusercontent.com/albahnsen/MIAD_ML_and_NLP/main/images/banner_1.png)"
   ]
  },
  {
   "cell_type": "markdown",
   "metadata": {},
   "source": [
    "# Taller: Construcción e implementación de árboles de decisión y métodos de ensamblaje\n",
    "\n",
    "En este taller podrá poner en práctica los sus conocimientos sobre construcción e implementación de árboles de decisión y métodos de ensamblajes. El taller está constituido por 9 puntos, 5 relacionados con árboles de decisión (parte A) y 4 con métodos de ensamblaje (parte B)."
   ]
  },
  {
   "cell_type": "markdown",
   "metadata": {},
   "source": [
    "## Parte A - Árboles de decisión\n",
    "\n",
    "En esta parte del taller se usará el conjunto de datos de Capital Bikeshare de Kaggle, donde cada observación representa el alquiler de una bicicleta durante una hora y día determinado. Para más detalles puede visitar los siguientes enlaces: [datos](https://github.com/justmarkham/DAT8/blob/master/data/bikeshare.csv), [dicccionario de datos](https://www.kaggle.com/c/bike-sharing-demand/data)."
   ]
  },
  {
   "cell_type": "markdown",
   "metadata": {},
   "source": [
    "### Datos prestamo de bicicletas"
   ]
  },
  {
   "cell_type": "code",
   "execution_count": 1,
   "metadata": {},
   "outputs": [],
   "source": [
    "import warnings\n",
    "warnings.filterwarnings('ignore')"
   ]
  },
  {
   "cell_type": "code",
   "execution_count": 2,
   "metadata": {},
   "outputs": [],
   "source": [
    "# Importación de librerías\n",
    "%matplotlib inline\n",
    "import pandas as pd\n",
    "import numpy as np\n",
    "from sklearn.model_selection import cross_val_score\n",
    "from sklearn.linear_model import LinearRegression\n",
    "from sklearn.tree import DecisionTreeRegressor, export_graphviz"
   ]
  },
  {
   "cell_type": "code",
   "execution_count": 3,
   "metadata": {},
   "outputs": [
    {
     "data": {
      "text/html": [
       "<div>\n",
       "<style scoped>\n",
       "    .dataframe tbody tr th:only-of-type {\n",
       "        vertical-align: middle;\n",
       "    }\n",
       "\n",
       "    .dataframe tbody tr th {\n",
       "        vertical-align: top;\n",
       "    }\n",
       "\n",
       "    .dataframe thead th {\n",
       "        text-align: right;\n",
       "    }\n",
       "</style>\n",
       "<table border=\"1\" class=\"dataframe\">\n",
       "  <thead>\n",
       "    <tr style=\"text-align: right;\">\n",
       "      <th></th>\n",
       "      <th>season</th>\n",
       "      <th>holiday</th>\n",
       "      <th>workingday</th>\n",
       "      <th>weather</th>\n",
       "      <th>temp</th>\n",
       "      <th>atemp</th>\n",
       "      <th>humidity</th>\n",
       "      <th>windspeed</th>\n",
       "      <th>casual</th>\n",
       "      <th>registered</th>\n",
       "      <th>total</th>\n",
       "      <th>hour</th>\n",
       "    </tr>\n",
       "    <tr>\n",
       "      <th>datetime</th>\n",
       "      <th></th>\n",
       "      <th></th>\n",
       "      <th></th>\n",
       "      <th></th>\n",
       "      <th></th>\n",
       "      <th></th>\n",
       "      <th></th>\n",
       "      <th></th>\n",
       "      <th></th>\n",
       "      <th></th>\n",
       "      <th></th>\n",
       "      <th></th>\n",
       "    </tr>\n",
       "  </thead>\n",
       "  <tbody>\n",
       "    <tr>\n",
       "      <th>2011-01-01 00:00:00</th>\n",
       "      <td>1</td>\n",
       "      <td>0</td>\n",
       "      <td>0</td>\n",
       "      <td>1</td>\n",
       "      <td>9.84</td>\n",
       "      <td>14.395</td>\n",
       "      <td>81</td>\n",
       "      <td>0.0</td>\n",
       "      <td>3</td>\n",
       "      <td>13</td>\n",
       "      <td>16</td>\n",
       "      <td>0</td>\n",
       "    </tr>\n",
       "    <tr>\n",
       "      <th>2011-01-01 01:00:00</th>\n",
       "      <td>1</td>\n",
       "      <td>0</td>\n",
       "      <td>0</td>\n",
       "      <td>1</td>\n",
       "      <td>9.02</td>\n",
       "      <td>13.635</td>\n",
       "      <td>80</td>\n",
       "      <td>0.0</td>\n",
       "      <td>8</td>\n",
       "      <td>32</td>\n",
       "      <td>40</td>\n",
       "      <td>1</td>\n",
       "    </tr>\n",
       "    <tr>\n",
       "      <th>2011-01-01 02:00:00</th>\n",
       "      <td>1</td>\n",
       "      <td>0</td>\n",
       "      <td>0</td>\n",
       "      <td>1</td>\n",
       "      <td>9.02</td>\n",
       "      <td>13.635</td>\n",
       "      <td>80</td>\n",
       "      <td>0.0</td>\n",
       "      <td>5</td>\n",
       "      <td>27</td>\n",
       "      <td>32</td>\n",
       "      <td>2</td>\n",
       "    </tr>\n",
       "    <tr>\n",
       "      <th>2011-01-01 03:00:00</th>\n",
       "      <td>1</td>\n",
       "      <td>0</td>\n",
       "      <td>0</td>\n",
       "      <td>1</td>\n",
       "      <td>9.84</td>\n",
       "      <td>14.395</td>\n",
       "      <td>75</td>\n",
       "      <td>0.0</td>\n",
       "      <td>3</td>\n",
       "      <td>10</td>\n",
       "      <td>13</td>\n",
       "      <td>3</td>\n",
       "    </tr>\n",
       "    <tr>\n",
       "      <th>2011-01-01 04:00:00</th>\n",
       "      <td>1</td>\n",
       "      <td>0</td>\n",
       "      <td>0</td>\n",
       "      <td>1</td>\n",
       "      <td>9.84</td>\n",
       "      <td>14.395</td>\n",
       "      <td>75</td>\n",
       "      <td>0.0</td>\n",
       "      <td>0</td>\n",
       "      <td>1</td>\n",
       "      <td>1</td>\n",
       "      <td>4</td>\n",
       "    </tr>\n",
       "  </tbody>\n",
       "</table>\n",
       "</div>"
      ],
      "text/plain": [
       "                     season  holiday  workingday  weather  temp   atemp  \\\n",
       "datetime                                                                  \n",
       "2011-01-01 00:00:00       1        0           0        1  9.84  14.395   \n",
       "2011-01-01 01:00:00       1        0           0        1  9.02  13.635   \n",
       "2011-01-01 02:00:00       1        0           0        1  9.02  13.635   \n",
       "2011-01-01 03:00:00       1        0           0        1  9.84  14.395   \n",
       "2011-01-01 04:00:00       1        0           0        1  9.84  14.395   \n",
       "\n",
       "                     humidity  windspeed  casual  registered  total  hour  \n",
       "datetime                                                                   \n",
       "2011-01-01 00:00:00        81        0.0       3          13     16     0  \n",
       "2011-01-01 01:00:00        80        0.0       8          32     40     1  \n",
       "2011-01-01 02:00:00        80        0.0       5          27     32     2  \n",
       "2011-01-01 03:00:00        75        0.0       3          10     13     3  \n",
       "2011-01-01 04:00:00        75        0.0       0           1      1     4  "
      ]
     },
     "execution_count": 3,
     "metadata": {},
     "output_type": "execute_result"
    }
   ],
   "source": [
    "# Lectura de la información de archivo .csv\n",
    "bikes = pd.read_csv('https://raw.githubusercontent.com/albahnsen/MIAD_ML_and_NLP/main/datasets/bikeshare.csv', index_col='datetime', parse_dates=True)\n",
    "# Renombrar variable \"count\" a \"total\"\n",
    "bikes.rename(columns={'count':'total'}, inplace=True)\n",
    "# Crear la hora como una variable \n",
    "bikes['hour'] = bikes.index.hour\n",
    "# Visualización\n",
    "bikes.head()"
   ]
  },
  {
   "cell_type": "markdown",
   "metadata": {},
   "source": [
    "### Punto 1 - Análisis descriptivo\n",
    "\n",
    "Ejecute las celdas 1.1 y 1.2. A partir de los resultados realice un análisis descriptivo sobre las variables hour y workingday, escriba sus inferencias sobre los datos. Para complementar su análisis puede usar métricas como máximo, mínimo, percentiles entre otros."
   ]
  },
  {
   "cell_type": "code",
   "execution_count": 4,
   "metadata": {},
   "outputs": [
    {
     "data": {
      "text/plain": [
       "workingday\n",
       "0    188.506621\n",
       "1    193.011873\n",
       "Name: total, dtype: float64"
      ]
     },
     "execution_count": 4,
     "metadata": {},
     "output_type": "execute_result"
    }
   ],
   "source": [
    "# Celda 1.1\n",
    "bikes.groupby('workingday').total.mean()"
   ]
  },
  {
   "cell_type": "code",
   "execution_count": 35,
   "metadata": {},
   "outputs": [
    {
     "name": "stdout",
     "output_type": "stream",
     "text": [
      "Análisis descriptivo para variable workingday:\n"
     ]
    },
    {
     "data": {
      "text/plain": [
       "count    10886.000000\n",
       "mean         0.680875\n",
       "std          0.466159\n",
       "min          0.000000\n",
       "25%          0.000000\n",
       "50%          1.000000\n",
       "75%          1.000000\n",
       "max          1.000000\n",
       "Name: workingday, dtype: float64"
      ]
     },
     "metadata": {},
     "output_type": "display_data"
    },
    {
     "data": {
      "text/plain": [
       "1    7412\n",
       "0    3474\n",
       "Name: workingday, dtype: int64"
      ]
     },
     "metadata": {},
     "output_type": "display_data"
    },
    {
     "name": "stdout",
     "output_type": "stream",
     "text": [
      "Inferencias para variable workingday:\n",
      "\n",
      "La variable es categórica y está representada como 1 cuando no es fin de semana ni feriado.\n",
      "\n",
      "Se observa que existen 7412 registros con 'workingday'=1 , que corresponden al 68% del total de dataset. Las observaciones \n",
      "restantes son 3474 y corresponden a 'workingday'=0. \n",
      "\n",
      "A pesar de que existe una mayor cantidad de registros como 'workingday'=1, podemos observar que el promedio de la columna \n",
      "total, es decir, la cantidad de alquileres de bicicletas es similar entre un día laboral y día no laboral.  0-> 188 ; 1->193\n",
      "\n",
      "Lo anterior parece indicar que en los días no laborales el alquiler de bicicletas se mantiene activo.\n",
      "\n"
     ]
    }
   ],
   "source": [
    "print(\"Análisis descriptivo para variable workingday:\")\n",
    "display(bikes['workingday'].describe())\n",
    "display(bikes['workingday'].value_counts())\n",
    "print(\"Inferencias para variable workingday:\\n\")\n",
    "print(\"\"\"La variable es categórica y está representada como 1 cuando no es fin de semana ni feriado.\n",
    "\n",
    "Se observa que existen 7412 registros con 'workingday'=1 , que corresponden al 68% del total de dataset. Las observaciones \n",
    "restantes son 3474 y corresponden a 'workingday'=0. \n",
    "\n",
    "A pesar de que existe una mayor cantidad de registros como 'workingday'=1, podemos observar que el promedio de la columna \n",
    "total, es decir, la cantidad de alquileres de bicicletas es similar entre un día laboral y día no laboral.  0-> 188 ; 1->193\n",
    "\n",
    "Lo anterior parece indicar que en los días no laborales el alquiler de bicicletas se mantiene activo.\n",
    "\"\"\")"
   ]
  },
  {
   "cell_type": "code",
   "execution_count": 5,
   "metadata": {
    "scrolled": true
   },
   "outputs": [
    {
     "data": {
      "text/plain": [
       "hour\n",
       "0      55.138462\n",
       "1      33.859031\n",
       "2      22.899554\n",
       "3      11.757506\n",
       "4       6.407240\n",
       "5      19.767699\n",
       "6      76.259341\n",
       "7     213.116484\n",
       "8     362.769231\n",
       "9     221.780220\n",
       "10    175.092308\n",
       "11    210.674725\n",
       "12    256.508772\n",
       "13    257.787281\n",
       "14    243.442982\n",
       "15    254.298246\n",
       "16    316.372807\n",
       "17    468.765351\n",
       "18    430.859649\n",
       "19    315.278509\n",
       "20    228.517544\n",
       "21    173.370614\n",
       "22    133.576754\n",
       "23     89.508772\n",
       "Name: total, dtype: float64"
      ]
     },
     "execution_count": 5,
     "metadata": {},
     "output_type": "execute_result"
    }
   ],
   "source": [
    "# Celda 1.2\n",
    "bikes.groupby('hour').total.mean()"
   ]
  },
  {
   "cell_type": "code",
   "execution_count": 47,
   "metadata": {},
   "outputs": [
    {
     "name": "stdout",
     "output_type": "stream",
     "text": [
      "Análisis descriptivo para variable hour:\n"
     ]
    },
    {
     "data": {
      "text/plain": [
       "count    10886.000000\n",
       "mean        11.541613\n",
       "std          6.915838\n",
       "min          0.000000\n",
       "25%          6.000000\n",
       "50%         12.000000\n",
       "75%         18.000000\n",
       "max         23.000000\n",
       "Name: hour, dtype: float64"
      ]
     },
     "metadata": {},
     "output_type": "display_data"
    },
    {
     "data": {
      "text/plain": [
       "23    456\n",
       "20    456\n",
       "16    456\n",
       "15    456\n",
       "17    456\n",
       "22    456\n",
       "14    456\n",
       "18    456\n",
       "21    456\n",
       "19    456\n",
       "13    456\n",
       "12    456\n",
       "7     455\n",
       "6     455\n",
       "0     455\n",
       "8     455\n",
       "11    455\n",
       "10    455\n",
       "9     455\n",
       "1     454\n",
       "5     452\n",
       "2     448\n",
       "4     442\n",
       "3     433\n",
       "Name: hour, dtype: int64"
      ]
     },
     "metadata": {},
     "output_type": "display_data"
    },
    {
     "name": "stdout",
     "output_type": "stream",
     "text": [
      "Inferencias para variable hour:\n",
      "\n",
      "La variable es discreta y está representada por las 24 del día. Se observa que a las 3am existen 433 registros, menos que el \n",
      "promedio de registros en las diferentes horas que es aproximadamente 455.\n",
      "\n",
      "Lo mas interesante se observa cuando se agrupa por hora y se obtiene el promedio de alquiler de bicicletas, en donde se \n",
      "presenta un incremento notable en la franja desde las 16horas hasta las 19horas, y a las 8horas en donde se supera el umbral de 300 alquileres por hora. \n",
      "\n",
      "Lo anterior parece lógico entendiendo las horas pico que ocurren en los medios de transporte.\n",
      "\n"
     ]
    }
   ],
   "source": [
    "print(\"Análisis descriptivo para variable hour:\")\n",
    "display(bikes['hour'].describe())\n",
    "display(bikes['hour'].value_counts())\n",
    "print(\"Inferencias para variable hour:\\n\")\n",
    "print(\"\"\"La variable es discreta y está representada por las 24 del día. Se observa que a las 3am existen 433 registros, menos que el \n",
    "promedio de registros en las diferentes horas que es aproximadamente 455.\n",
    "\n",
    "Lo mas interesante se observa cuando se agrupa por hora y se obtiene el promedio de alquiler de bicicletas, en donde se \n",
    "presenta un incremento notable en la franja desde las 16horas hasta las 19horas, y a las 8horas en donde se supera el umbral de 300 alquileres por hora. \n",
    "\n",
    "Lo anterior parece lógico entendiendo las horas pico que ocurren en los medios de transporte.\n",
    "\"\"\")\n"
   ]
  },
  {
   "cell_type": "markdown",
   "metadata": {},
   "source": [
    "### Punto 2 - Análisis de gráficos\n",
    "\n",
    "Primero ejecute la celda 2.1 y asegúrese de comprender el código y el resultado. Luego, en cada una de celdas 2.2 y 2.3 escriba un código que genere una gráfica de las rentas promedio por hora cuando la variable \"workingday\" es igual a 0 e igual a 1, respectivamente. Analice y escriba sus hallazgos."
   ]
  },
  {
   "cell_type": "code",
   "execution_count": 48,
   "metadata": {},
   "outputs": [
    {
     "data": {
      "text/plain": [
       "<AxesSubplot:xlabel='hour'>"
      ]
     },
     "execution_count": 48,
     "metadata": {},
     "output_type": "execute_result"
    },
    {
     "data": {
      "image/png": "[encoded data removed]",
      "text/plain": [
       "<Figure size 432x288 with 1 Axes>"
      ]
     },
     "metadata": {
      "needs_background": "light"
     },
     "output_type": "display_data"
    }
   ],
   "source": [
    "# Celda 2.1 - rentas promedio para cada valor de la variable \"hour\"\n",
    "bikes.groupby('hour').total.mean().plot()"
   ]
  },
  {
   "cell_type": "code",
   "execution_count": 57,
   "metadata": {},
   "outputs": [
    {
     "data": {
      "text/plain": [
       "<AxesSubplot:xlabel='hour'>"
      ]
     },
     "execution_count": 57,
     "metadata": {},
     "output_type": "execute_result"
    },
    {
     "data": {
      "image/png": "[encoded data removed]",
      "text/plain": [
       "<Figure size 432x288 with 1 Axes>"
      ]
     },
     "metadata": {
      "needs_background": "light"
     },
     "output_type": "display_data"
    }
   ],
   "source": [
    "# Celda 2.2 - \"workingday\"=0 escriba su código y hallazgos \n",
    "wd_cero=bikes.query(\"workingday==0\")\n",
    "wd_cero.head()\n",
    "wd_cero.groupby('hour').total.mean().plot()"
   ]
  },
  {
   "cell_type": "code",
   "execution_count": 58,
   "metadata": {
    "scrolled": true
   },
   "outputs": [
    {
     "data": {
      "text/plain": [
       "<AxesSubplot:xlabel='hour'>"
      ]
     },
     "execution_count": 58,
     "metadata": {},
     "output_type": "execute_result"
    },
    {
     "data": {
      "image/png": "[encoded data removed]",
      "text/plain": [
       "<Figure size 432x288 with 1 Axes>"
      ]
     },
     "metadata": {
      "needs_background": "light"
     },
     "output_type": "display_data"
    }
   ],
   "source": [
    "# Celda 2.3 - \"workingday\"=1 escriba su código y hallazgos \n",
    "wd_uno=bikes.query(\"workingday==1\")\n",
    "wd_uno.head()\n",
    "wd_uno.groupby('hour').total.mean().plot()"
   ]
  },
  {
   "cell_type": "code",
   "execution_count": 73,
   "metadata": {},
   "outputs": [
    {
     "name": "stdout",
     "output_type": "stream",
     "text": [
      "Hallazgos:\n",
      "Las gráficas anteriores son muy interesantes ya que nos pueden dar algunas pistas del fenómeno que estamos analizando. \n",
      "En la primera grafica se observa el patrón de la cantidad de alquileres según la hora del día, y allí se aprecia una \n",
      "estacionalidad propia de las series temporales, en donde tenemos picos y valles que nos dan una idea de como varía el alquiler en relación con la hora del día.\n",
      "\n",
      "Sin embargo, al disgregar el dataset por la variable workingday se observa una notable diferencia en el patrón de \n",
      "comportamiento de alquileres en días laborales vs días no laborales. \n",
      "\n",
      "En la segunda grafica se presenta el patrón de días no laborales, el cual está marcado casi por una campana que tiene su máximo sobre el medio día y se presenta una ventana de tiempo de casi 6 horas con más de 300 alquileres. Por otra parte, existe un \n",
      "valle que ocurre en horas de la madrugada. \n",
      "\n",
      "En la tercera grafica se presenta el patrón de días laborales, el cual este marcado por dos picos uno en la mañana sobre las \n",
      "8am y otro al finalizar la tarde entre las 17h y 18h. El valle que se presenta entre estas dos horas presenta un notable \n",
      "descenso. Por otra parte, existe un segundo valle que ocurre en horas de la madrugada.\n",
      "\n",
      "Analizando las tres graficas se puede decir que analizar el patrón del comportamiento con disgregación por día laboral, es muy valioso ya que permite entender como cambia el uso que se le podría dar a la bicicleta, de igual forma en términos de \n",
      "predicción se puede decir que las dos variables: Hora y Workingday pueden ser valiosas para la explicación de la variable\n",
      "dependiente.\n",
      "\n",
      "En términos de negocio estos patrones podrían ser importantes para la planeación de disponibilidad de bicicletas, planes de \n",
      "mercadeo en horas valle, evitar una sobreoferta de bicicletas en horas valle durante la semana y ajustar los horarios de \n",
      "entregas de bicicletas, ya que en el fin de semana la actividad de alquiler parece iniciar más tarde que entre semana. Queda la pregunta abierta sobre el uso que se le dan a las bicicletas, si es para ir a trabajar o dar un paseo, entre otras.\n",
      "\n",
      "\n"
     ]
    }
   ],
   "source": [
    "print(\"\"\"Hallazgos:\n",
    "Las gráficas anteriores son muy interesantes ya que nos pueden dar algunas pistas del fenómeno que estamos analizando. \n",
    "En la primera grafica se observa el patrón de la cantidad de alquileres según la hora del día, y allí se aprecia una \n",
    "estacionalidad propia de las series temporales, en donde tenemos picos y valles que nos dan una idea de como varía el alquiler en relación con la hora del día.\n",
    "\n",
    "Sin embargo, al disgregar el dataset por la variable workingday se observa una notable diferencia en el patrón de \n",
    "comportamiento de alquileres en días laborales vs días no laborales. \n",
    "\n",
    "En la segunda grafica se presenta el patrón de días no laborales, el cual está marcado casi por una campana que tiene su máximo sobre el medio día y se presenta una ventana de tiempo de casi 6 horas con más de 300 alquileres. Por otra parte, existe un \n",
    "valle que ocurre en horas de la madrugada. \n",
    "\n",
    "En la tercera grafica se presenta el patrón de días laborales, el cual este marcado por dos picos uno en la mañana sobre las \n",
    "8am y otro al finalizar la tarde entre las 17h y 18h. El valle que se presenta entre estas dos horas presenta un notable \n",
    "descenso. Por otra parte, existe un segundo valle que ocurre en horas de la madrugada.\n",
    "\n",
    "Analizando las tres graficas se puede decir que analizar el patrón del comportamiento con disgregación por día laboral, es muy valioso ya que permite entender como cambia el uso que se le podría dar a la bicicleta, de igual forma en términos de \n",
    "predicción se puede decir que las dos variables: Hora y Workingday pueden ser valiosas para la explicación de la variable\n",
    "dependiente.\n",
    "\n",
    "En términos de negocio estos patrones podrían ser importantes para la planeación de disponibilidad de bicicletas, planes de \n",
    "mercadeo en horas valle, evitar una sobreoferta de bicicletas en horas valle durante la semana y ajustar los horarios de \n",
    "entregas de bicicletas, ya que en el fin de semana la actividad de alquiler parece iniciar más tarde que entre semana. Queda la pregunta abierta sobre el uso que se le dan a las bicicletas, si es para ir a trabajar o dar un paseo, entre otras.\n",
    "\n",
    "\"\"\")"
   ]
  },
  {
   "cell_type": "markdown",
   "metadata": {},
   "source": [
    "### Punto 3 - Regresión lineal\n",
    "En la celda 3 ajuste un modelo de regresión lineal a todo el conjunto de datos, utilizando \"total\" como variable de respuesta y \"hour\" y \"workingday\" como las únicas variables predictoras. Luego, imprima los coeficientes e interprételos. ¿Cuáles son las limitaciones de la regresión lineal en este caso?"
   ]
  },
  {
   "cell_type": "code",
   "execution_count": 130,
   "metadata": {},
   "outputs": [
    {
     "name": "stdout",
     "output_type": "stream",
     "text": [
      "Coeficientes: hour , workingday\n"
     ]
    },
    {
     "data": {
      "text/plain": [
       "array([[10.52404937,  5.97715592]])"
      ]
     },
     "metadata": {},
     "output_type": "display_data"
    },
    {
     "name": "stdout",
     "output_type": "stream",
     "text": [
      "Intercepto:\n"
     ]
    },
    {
     "data": {
      "text/plain": [
       "array([64.78367474])"
      ]
     },
     "metadata": {},
     "output_type": "display_data"
    },
    {
     "name": "stdout",
     "output_type": "stream",
     "text": [
      "R2\n"
     ]
    },
    {
     "data": {
      "text/plain": [
       "0.1605175005328403"
      ]
     },
     "metadata": {},
     "output_type": "display_data"
    },
    {
     "name": "stdout",
     "output_type": "stream",
     "text": [
      "[[291.76586736]\n",
      " [239.14562053]\n",
      " [239.14562053]]\n",
      "\n",
      "El error (rmse) de test es: 165.48176792747424\n",
      "El coeficiente de la variable hour es 10.52 y el de workingday es 5.9. Al apreciar que los dos coeficientes son positivos \n",
      "se observa que el modelo tiene limitaciones para predecir las disminuciones en los patrones observados anteriormente\n"
     ]
    }
   ],
   "source": [
    "# Celda 3\n",
    "from sklearn.model_selection import train_test_split\n",
    "from sklearn.linear_model import LinearRegression\n",
    "\n",
    "X2var=bikes[['hour','workingday']]\n",
    "X2var.head()\n",
    "Y=bikes[['total']]\n",
    "Y.head()\n",
    "\n",
    "XTrain, XTest, yTrain, yTest = train_test_split(X2var,Y,test_size=0.30,random_state=0)\n",
    "LReg =LinearRegression()\n",
    "LReg.fit(XTrain,yTrain)\n",
    "print(\"Coeficientes: hour , workingday\")\n",
    "display(LReg.coef_)\n",
    "print(\"Intercepto:\")\n",
    "display(LReg.intercept_ )\n",
    "print(\"R2\")\n",
    "display(LReg.score(X2var,Y))\n",
    "\n",
    "\n",
    "predicciones = LReg.predict(X = XTest)\n",
    "print(predicciones[0:3,])\n",
    "\n",
    "rmse = mean_squared_error(\n",
    "        y_true  = yTest,\n",
    "        y_pred  = predicciones,\n",
    "        squared = False\n",
    "       )\n",
    "print(\"\")\n",
    "print(f\"El error (rmse) de test es: {rmse}\")\n",
    "\n",
    "print(\"\"\"El coeficiente de la variable hour es 10.52 y el de workingday es 5.9. Al apreciar que los dos coeficientes son positivos \n",
    "se observa que el modelo tiene limitaciones para predecir las disminuciones en los patrones observados anteriormente\"\"\")"
   ]
  },
  {
   "cell_type": "markdown",
   "metadata": {},
   "source": [
    "### Punto 4 - Árbol de decisión manual\n",
    "En la celda 4 cree un árbol de decisiones para pronosticar la variable \"total\" iterando **manualmente** sobre las variables \"hour\" y  \"workingday\". El árbol debe tener al menos 6 nodos finales."
   ]
  },
  {
   "cell_type": "code",
   "execution_count": 131,
   "metadata": {},
   "outputs": [],
   "source": [
    "# Celda 4\n",
    "\n",
    "X=XTrain\n",
    "y=yTrain\n",
    "\n",
    "# Definición de parámetros y criterios de parada\n",
    "max_depth = 6\n",
    "num_pct = 10\n",
    "max_features = None\n",
    "min_gain=0.001\n",
    "\n"
   ]
  },
  {
   "cell_type": "code",
   "execution_count": 222,
   "metadata": {},
   "outputs": [],
   "source": [
    "# Definición de la función best_split para calcular cuál es la mejor variable y punto de cortepara hacer la bifurcación del árbol\n",
    "def best_split(X, y, num_pct=10):\n",
    "    \n",
    "    features = range(X.shape[1])\n",
    "    \n",
    "    best_split = [0, 0, 0]  # j, split, gain\n",
    "    \n",
    "    # Para todas las varibles \n",
    "    for j in features:\n",
    "        \n",
    "        splits = np.percentile(X.iloc[:, j], np.arange(0, 100, 100.0 / (num_pct+1)).tolist())\n",
    "        splits = np.unique(splits)[1:]\n",
    "        \n",
    "       #mse\n",
    "    \n",
    "    return best_split"
   ]
  },
  {
   "cell_type": "markdown",
   "metadata": {},
   "source": [
    "### Punto 5 - Árbol de decisión con librería\n",
    "En la celda 5 entrene un árbol de decisiones con la **librería sklearn**, usando las variables predictoras \"hour\" y \"workingday\" y calibre los parámetros que considere conveniente para obtener un mejor desempeño. Comente el desempeño del modelo con alguna métrica de desempeño de modelos de regresión y compare desempeño con el modelo del punto 3."
   ]
  },
  {
   "cell_type": "code",
   "execution_count": 188,
   "metadata": {},
   "outputs": [
    {
     "name": "stdout",
     "output_type": "stream",
     "text": [
      "El error (rmse) de test es: 140.59762537017076\n"
     ]
    },
    {
     "data": {
      "image/png": "[encoded data removed]",
      "text/plain": [
       "<Figure size 864x360 with 1 Axes>"
      ]
     },
     "metadata": {
      "needs_background": "light"
     },
     "output_type": "display_data"
    }
   ],
   "source": [
    "# Celda 5\n",
    "\n",
    "from sklearn.tree import DecisionTreeRegressor\n",
    "from sklearn.tree import plot_tree\n",
    "from sklearn.model_selection import GridSearchCV\n",
    "\n",
    "#XTrain, XTest, yTrain, yTest \n",
    "\n",
    "modelo = DecisionTreeRegressor( max_depth= 2, random_state = 5)\n",
    "\n",
    "# Entrenamiento del modelo\n",
    "modelo.fit(XTrain, yTrain)\n",
    "fig, ax = plt.subplots(figsize=(12, 5))\n",
    "\n",
    "plot = plot_tree(\n",
    "            decision_tree = modelo,\n",
    "            feature_names = XTrain.columns,\n",
    "            class_names   = 'total',\n",
    "            filled        = True,\n",
    "            impurity      = False,\n",
    "            fontsize      = 10,\n",
    "            precision     = 2,\n",
    "            ax            = ax\n",
    "       )\n",
    "\n",
    "predicciones = modelo.predict(X = XTest)\n",
    "\n",
    "rmse = mean_squared_error(\n",
    "        y_true  = yTest,\n",
    "        y_pred  = predicciones,\n",
    "        squared = False\n",
    "       )\n",
    "print(f\"El error (rmse) de test es: {rmse}\")"
   ]
  },
  {
   "cell_type": "code",
   "execution_count": 200,
   "metadata": {},
   "outputs": [
    {
     "name": "stdout",
     "output_type": "stream",
     "text": [
      "R2 =  0.6500373540881188\n",
      "mejores parametros \n",
      "{'max_depth': 8, 'max_leaf_nodes': 100, 'min_samples_leaf': 10}\n"
     ]
    }
   ],
   "source": [
    "param_grid = {\"max_depth\": [2, 6, 8, 10, 15, 25 , 40],\n",
    "              \"min_samples_leaf\": [10,20, 40, 100],\n",
    "              \"max_leaf_nodes\": [5, 20, 100,150],\n",
    "              }\n",
    "\n",
    "\n",
    "grid_cvtun = GridSearchCV(modelo, param_grid, cv=5)\n",
    "\n",
    "grid_cvtun.fit(X,y)\n",
    "print(\"R2 =  {}\".format(grid_cvtun.best_score_))\n",
    "print(\"mejores parametros \\n{}\".format(grid_cvtun.best_params_))"
   ]
  },
  {
   "cell_type": "code",
   "execution_count": 202,
   "metadata": {},
   "outputs": [
    {
     "name": "stdout",
     "output_type": "stream",
     "text": [
      "El error (rmse) de test es: 106.29709227723208\n"
     ]
    }
   ],
   "source": [
    "modelo_tun= DecisionTreeRegressor( max_depth= 8, max_leaf_nodes=100,min_samples_leaf=10, random_state = 5)\n",
    "modelo_tun.fit(XTrain, yTrain)\n",
    "predicciones = modelo_tun.predict(X = XTest)\n",
    "\n",
    "rmse = mean_squared_error(\n",
    "        y_true  = yTest,\n",
    "        y_pred  = predicciones,\n",
    "        squared = False\n",
    "       )\n",
    "print(f\"El error (rmse) de test es: {rmse}\")"
   ]
  },
  {
   "cell_type": "code",
   "execution_count": 221,
   "metadata": {},
   "outputs": [
    {
     "name": "stdout",
     "output_type": "stream",
     "text": [
      "Para el punto 3 con un modelo de regresion lineal multiple se obtuvo un RMSE= 165.48\n",
      "\n",
      "Para el arbol con profundidad=2 se obtiene un valor de RMSE=140.59  \n",
      "\n",
      "Para el arbol calibrado mediante el GRIDSearch con tres parametros: max_depth,min_samples_leaf,max_leaf_nodes  se obtiene un \n",
      "mejor resultado que en los modelos anteriores, un RMSE=106.29 \n",
      "\n",
      "Como este último es un valor de error menor se considera que el modelo calibrado de arbol de regresion puede predecir mejor que el modelo sin calibrar y que la regresion lineal, para este caso en particular.\n"
     ]
    }
   ],
   "source": [
    "print(\"\"\"Para el punto 3 con un modelo de regresion lineal multiple se obtuvo un RMSE= 165.48\n",
    "\n",
    "Para el arbol con profundidad=2 se obtiene un valor de RMSE=140.59  \n",
    "\n",
    "Para el arbol calibrado mediante el GRIDSearch con tres parametros: max_depth,min_samples_leaf,max_leaf_nodes  se obtiene un \n",
    "mejor resultado que en los modelos anteriores, un RMSE=106.29 \n",
    "\n",
    "Como este último es un valor de error menor se considera que el modelo calibrado de arbol de regresion puede predecir mejor que el modelo sin calibrar y que la regresion lineal, para este caso en particular.\"\"\")"
   ]
  },
  {
   "cell_type": "markdown",
   "metadata": {},
   "source": [
    "## Parte B - Métodos de ensamblajes\n",
    "En esta parte del taller se usará el conjunto de datos de Popularidad de Noticias Online. El objetivo es predecir si la notica es popular o no, la populridad esta dada por la cantidad de reacciones en redes sociales. Para más detalles puede visitar el sigueinte enlace: [datos](https://archive.ics.uci.edu/ml/datasets/online+news+popularity)."
   ]
  },
  {
   "cell_type": "markdown",
   "metadata": {},
   "source": [
    "### Datos popularidad de noticias"
   ]
  },
  {
   "cell_type": "code",
   "execution_count": 223,
   "metadata": {},
   "outputs": [
    {
     "data": {
      "text/html": [
       "<div>\n",
       "<style scoped>\n",
       "    .dataframe tbody tr th:only-of-type {\n",
       "        vertical-align: middle;\n",
       "    }\n",
       "\n",
       "    .dataframe tbody tr th {\n",
       "        vertical-align: top;\n",
       "    }\n",
       "\n",
       "    .dataframe thead th {\n",
       "        text-align: right;\n",
       "    }\n",
       "</style>\n",
       "<table border=\"1\" class=\"dataframe\">\n",
       "  <thead>\n",
       "    <tr style=\"text-align: right;\">\n",
       "      <th></th>\n",
       "      <th>url</th>\n",
       "      <th>timedelta</th>\n",
       "      <th>n_tokens_title</th>\n",
       "      <th>n_tokens_content</th>\n",
       "      <th>n_unique_tokens</th>\n",
       "      <th>n_non_stop_words</th>\n",
       "      <th>n_non_stop_unique_tokens</th>\n",
       "      <th>num_hrefs</th>\n",
       "      <th>num_self_hrefs</th>\n",
       "      <th>num_imgs</th>\n",
       "      <th>...</th>\n",
       "      <th>min_positive_polarity</th>\n",
       "      <th>max_positive_polarity</th>\n",
       "      <th>avg_negative_polarity</th>\n",
       "      <th>min_negative_polarity</th>\n",
       "      <th>max_negative_polarity</th>\n",
       "      <th>title_subjectivity</th>\n",
       "      <th>title_sentiment_polarity</th>\n",
       "      <th>abs_title_subjectivity</th>\n",
       "      <th>abs_title_sentiment_polarity</th>\n",
       "      <th>Popular</th>\n",
       "    </tr>\n",
       "  </thead>\n",
       "  <tbody>\n",
       "    <tr>\n",
       "      <th>0</th>\n",
       "      <td>http://mashable.com/2014/12/10/cia-torture-rep...</td>\n",
       "      <td>28.0</td>\n",
       "      <td>9.0</td>\n",
       "      <td>188.0</td>\n",
       "      <td>0.732620</td>\n",
       "      <td>1.0</td>\n",
       "      <td>0.844262</td>\n",
       "      <td>5.0</td>\n",
       "      <td>1.0</td>\n",
       "      <td>1.0</td>\n",
       "      <td>...</td>\n",
       "      <td>0.200000</td>\n",
       "      <td>0.80</td>\n",
       "      <td>-0.487500</td>\n",
       "      <td>-0.60</td>\n",
       "      <td>-0.250000</td>\n",
       "      <td>0.9</td>\n",
       "      <td>0.8</td>\n",
       "      <td>0.4</td>\n",
       "      <td>0.8</td>\n",
       "      <td>1</td>\n",
       "    </tr>\n",
       "    <tr>\n",
       "      <th>1</th>\n",
       "      <td>http://mashable.com/2013/10/18/bitlock-kicksta...</td>\n",
       "      <td>447.0</td>\n",
       "      <td>7.0</td>\n",
       "      <td>297.0</td>\n",
       "      <td>0.653199</td>\n",
       "      <td>1.0</td>\n",
       "      <td>0.815789</td>\n",
       "      <td>9.0</td>\n",
       "      <td>4.0</td>\n",
       "      <td>1.0</td>\n",
       "      <td>...</td>\n",
       "      <td>0.160000</td>\n",
       "      <td>0.50</td>\n",
       "      <td>-0.135340</td>\n",
       "      <td>-0.40</td>\n",
       "      <td>-0.050000</td>\n",
       "      <td>0.1</td>\n",
       "      <td>-0.1</td>\n",
       "      <td>0.4</td>\n",
       "      <td>0.1</td>\n",
       "      <td>0</td>\n",
       "    </tr>\n",
       "    <tr>\n",
       "      <th>2</th>\n",
       "      <td>http://mashable.com/2013/07/24/google-glass-po...</td>\n",
       "      <td>533.0</td>\n",
       "      <td>11.0</td>\n",
       "      <td>181.0</td>\n",
       "      <td>0.660377</td>\n",
       "      <td>1.0</td>\n",
       "      <td>0.775701</td>\n",
       "      <td>4.0</td>\n",
       "      <td>3.0</td>\n",
       "      <td>1.0</td>\n",
       "      <td>...</td>\n",
       "      <td>0.136364</td>\n",
       "      <td>1.00</td>\n",
       "      <td>0.000000</td>\n",
       "      <td>0.00</td>\n",
       "      <td>0.000000</td>\n",
       "      <td>0.3</td>\n",
       "      <td>1.0</td>\n",
       "      <td>0.2</td>\n",
       "      <td>1.0</td>\n",
       "      <td>0</td>\n",
       "    </tr>\n",
       "    <tr>\n",
       "      <th>3</th>\n",
       "      <td>http://mashable.com/2013/11/21/these-are-the-m...</td>\n",
       "      <td>413.0</td>\n",
       "      <td>12.0</td>\n",
       "      <td>781.0</td>\n",
       "      <td>0.497409</td>\n",
       "      <td>1.0</td>\n",
       "      <td>0.677350</td>\n",
       "      <td>10.0</td>\n",
       "      <td>3.0</td>\n",
       "      <td>1.0</td>\n",
       "      <td>...</td>\n",
       "      <td>0.100000</td>\n",
       "      <td>1.00</td>\n",
       "      <td>-0.195701</td>\n",
       "      <td>-0.40</td>\n",
       "      <td>-0.071429</td>\n",
       "      <td>0.0</td>\n",
       "      <td>0.0</td>\n",
       "      <td>0.5</td>\n",
       "      <td>0.0</td>\n",
       "      <td>0</td>\n",
       "    </tr>\n",
       "    <tr>\n",
       "      <th>4</th>\n",
       "      <td>http://mashable.com/2014/02/11/parking-ticket-...</td>\n",
       "      <td>331.0</td>\n",
       "      <td>8.0</td>\n",
       "      <td>177.0</td>\n",
       "      <td>0.685714</td>\n",
       "      <td>1.0</td>\n",
       "      <td>0.830357</td>\n",
       "      <td>3.0</td>\n",
       "      <td>2.0</td>\n",
       "      <td>1.0</td>\n",
       "      <td>...</td>\n",
       "      <td>0.100000</td>\n",
       "      <td>0.55</td>\n",
       "      <td>-0.175000</td>\n",
       "      <td>-0.25</td>\n",
       "      <td>-0.100000</td>\n",
       "      <td>0.0</td>\n",
       "      <td>0.0</td>\n",
       "      <td>0.5</td>\n",
       "      <td>0.0</td>\n",
       "      <td>0</td>\n",
       "    </tr>\n",
       "  </tbody>\n",
       "</table>\n",
       "<p>5 rows × 61 columns</p>\n",
       "</div>"
      ],
      "text/plain": [
       "                                                 url  timedelta  \\\n",
       "0  http://mashable.com/2014/12/10/cia-torture-rep...       28.0   \n",
       "1  http://mashable.com/2013/10/18/bitlock-kicksta...      447.0   \n",
       "2  http://mashable.com/2013/07/24/google-glass-po...      533.0   \n",
       "3  http://mashable.com/2013/11/21/these-are-the-m...      413.0   \n",
       "4  http://mashable.com/2014/02/11/parking-ticket-...      331.0   \n",
       "\n",
       "   n_tokens_title  n_tokens_content  n_unique_tokens  n_non_stop_words  \\\n",
       "0             9.0             188.0         0.732620               1.0   \n",
       "1             7.0             297.0         0.653199               1.0   \n",
       "2            11.0             181.0         0.660377               1.0   \n",
       "3            12.0             781.0         0.497409               1.0   \n",
       "4             8.0             177.0         0.685714               1.0   \n",
       "\n",
       "   n_non_stop_unique_tokens  num_hrefs  num_self_hrefs  num_imgs  ...  \\\n",
       "0                  0.844262        5.0             1.0       1.0  ...   \n",
       "1                  0.815789        9.0             4.0       1.0  ...   \n",
       "2                  0.775701        4.0             3.0       1.0  ...   \n",
       "3                  0.677350       10.0             3.0       1.0  ...   \n",
       "4                  0.830357        3.0             2.0       1.0  ...   \n",
       "\n",
       "   min_positive_polarity  max_positive_polarity  avg_negative_polarity  \\\n",
       "0               0.200000                   0.80              -0.487500   \n",
       "1               0.160000                   0.50              -0.135340   \n",
       "2               0.136364                   1.00               0.000000   \n",
       "3               0.100000                   1.00              -0.195701   \n",
       "4               0.100000                   0.55              -0.175000   \n",
       "\n",
       "   min_negative_polarity  max_negative_polarity  title_subjectivity  \\\n",
       "0                  -0.60              -0.250000                 0.9   \n",
       "1                  -0.40              -0.050000                 0.1   \n",
       "2                   0.00               0.000000                 0.3   \n",
       "3                  -0.40              -0.071429                 0.0   \n",
       "4                  -0.25              -0.100000                 0.0   \n",
       "\n",
       "   title_sentiment_polarity  abs_title_subjectivity  \\\n",
       "0                       0.8                     0.4   \n",
       "1                      -0.1                     0.4   \n",
       "2                       1.0                     0.2   \n",
       "3                       0.0                     0.5   \n",
       "4                       0.0                     0.5   \n",
       "\n",
       "   abs_title_sentiment_polarity  Popular  \n",
       "0                           0.8        1  \n",
       "1                           0.1        0  \n",
       "2                           1.0        0  \n",
       "3                           0.0        0  \n",
       "4                           0.0        0  \n",
       "\n",
       "[5 rows x 61 columns]"
      ]
     },
     "execution_count": 223,
     "metadata": {},
     "output_type": "execute_result"
    }
   ],
   "source": [
    "# Lectura de la información de archivo .csv\n",
    "df = pd.read_csv('https://raw.githubusercontent.com/albahnsen/MIAD_ML_and_NLP/main/datasets/mashable.csv', index_col=0)\n",
    "df.head()"
   ]
  },
  {
   "cell_type": "code",
   "execution_count": 227,
   "metadata": {},
   "outputs": [
    {
     "data": {
      "text/plain": [
       "0.5"
      ]
     },
     "execution_count": 227,
     "metadata": {},
     "output_type": "execute_result"
    }
   ],
   "source": [
    "# Definición variable de interes y variables predictoras\n",
    "X = df.drop(['url', 'Popular'], axis=1)\n",
    "y = df['Popular']\n",
    "y.mean()\n"
   ]
  },
  {
   "cell_type": "code",
   "execution_count": 228,
   "metadata": {},
   "outputs": [],
   "source": [
    "# División de la muestra en set de entrenamiento y prueba\n",
    "from sklearn.model_selection import train_test_split\n",
    "X_train, X_test, y_train, y_test = train_test_split(X, y, random_state=1)"
   ]
  },
  {
   "cell_type": "markdown",
   "metadata": {},
   "source": [
    "### Punto 6 - Árbol de decisión y regresión logística\n",
    "En la celda 6 construya un árbol de decisión y una regresión logística. Para el árbol calibre al menos un parámetro y evalúe el desempeño de cada modelo usando las métricas de Accuracy y F1-Score."
   ]
  },
  {
   "cell_type": "code",
   "execution_count": null,
   "metadata": {},
   "outputs": [],
   "source": [
    "# Celda 6\n"
   ]
  },
  {
   "cell_type": "markdown",
   "metadata": {},
   "source": [
    "### Punto 7 - Votación Mayoritaria\n",
    "En la celda 7 elabore un esamble con la metodología de **Votación mayoritaria** compuesto por 300 muestras bagged para cada uno de los siguientes escenarios:\n",
    "\n",
    "-100 árboles de decisión donde max_depth = None\\\n",
    "-100 árboles de decisión donde max_depth = 2\\\n",
    "-100 regresiones logísticas\n",
    "\n",
    "Evalúe los modelos utilizando las métricas de Accuracy y F1-Score."
   ]
  },
  {
   "cell_type": "code",
   "execution_count": null,
   "metadata": {},
   "outputs": [],
   "source": [
    "# Celda 7\n"
   ]
  },
  {
   "cell_type": "markdown",
   "metadata": {},
   "source": [
    "### Punto 8 - Votación Ponderada\n",
    "En la celda 8 elabore un ensamble con la metodología de **Votación ponderada** compuesto por 300 muestras bagged para los mismos tres escenarios del punto 7. Evalúe los modelos utilizando las métricas de Accuracy y F1-Score"
   ]
  },
  {
   "cell_type": "code",
   "execution_count": null,
   "metadata": {},
   "outputs": [],
   "source": [
    "# Celda 8\n"
   ]
  },
  {
   "cell_type": "markdown",
   "metadata": {},
   "source": [
    "### Punto 9 - Comparación y análisis de resultados\n",
    "En la celda 9 comente sobre los resultados obtenidos con las metodologías usadas en los puntos 7 y 8, compare los resultados y enuncie posibles ventajas o desventajas de cada una de ellas."
   ]
  },
  {
   "cell_type": "code",
   "execution_count": null,
   "metadata": {},
   "outputs": [],
   "source": [
    "# Celda 9"
   ]
  }
 ],
 "metadata": {
  "kernelspec": {
   "display_name": "Python 3",
   "language": "python",
   "name": "python3"
  },
  "language_info": {
   "codemirror_mode": {
    "name": "ipython",
    "version": 3
   },
   "file_extension": ".py",
   "mimetype": "text/x-python",
   "name": "python",
   "nbconvert_exporter": "python",
   "pygments_lexer": "ipython3",
   "version": "3.8.8"
  }
 },
 "nbformat": 4,
 "nbformat_minor": 4
}
